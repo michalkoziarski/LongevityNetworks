{
 "cells": [
  {
   "cell_type": "markdown",
   "metadata": {},
   "source": [
    "# Link prediction with GCN"
   ]
  },
  {
   "cell_type": "markdown",
   "metadata": {},
   "source": [
    "The goal of this notebook is to get complete predictions for whole dataset split into cross-validation folds. For more detailed description of the training refer to the `gcn-link-prediction-demo.ipynb` notebook."
   ]
  },
  {
   "cell_type": "code",
   "execution_count": 1,
   "metadata": {},
   "outputs": [],
   "source": [
    "import numpy as np\n",
    "import pandas as pd\n",
    "import stellargraph as sg\n",
    "from stellargraph.mapper import FullBatchLinkGenerator\n",
    "from stellargraph.layer import GCN, LinkEmbedding\n",
    "from tensorflow import keras\n",
    "from tqdm.keras import TqdmCallback\n",
    "\n",
    "from graph import load_splits"
   ]
  },
  {
   "cell_type": "code",
   "execution_count": 2,
   "metadata": {},
   "outputs": [],
   "source": [
    "def train_predict(split, epochs=5000):\n",
    "    (G_train, edge_ids_train, edge_labels_train), (G_test, edge_ids_test, edge_labels_test) = split\n",
    "\n",
    "    train_gen = FullBatchLinkGenerator(G_train, method=\"gcn\")\n",
    "    train_flow = train_gen.flow(edge_ids_train, edge_labels_train)\n",
    "    test_gen = FullBatchLinkGenerator(G_test, method=\"gcn\")\n",
    "    test_flow = test_gen.flow(edge_ids_test, edge_labels_test)\n",
    "\n",
    "    gcn = GCN(\n",
    "        layer_sizes=[256, 256, 256, 256], activations=[\"relu\", \"relu\", \"relu\", \"relu\"], generator=train_gen, dropout=0.25\n",
    "    )\n",
    "\n",
    "    x_inp, x_out = gcn.in_out_tensors()\n",
    "\n",
    "    prediction = LinkEmbedding(activation=\"tanh\", method=\"ip\")(x_out)\n",
    "    prediction = keras.layers.Reshape((-1,))(prediction)\n",
    "\n",
    "    model = keras.Model(inputs=x_inp, outputs=prediction)\n",
    "    model.compile(\n",
    "        optimizer=keras.optimizers.Adam(learning_rate=0.0001),\n",
    "        loss=keras.losses.binary_crossentropy,\n",
    "        metrics=[\n",
    "            keras.metrics.BinaryAccuracy(), \n",
    "            keras.metrics.Precision(), \n",
    "            keras.metrics.Recall(),\n",
    "            keras.metrics.AUC()\n",
    "        ],\n",
    "    )\n",
    "\n",
    "    model.fit(\n",
    "        train_flow, epochs=epochs, validation_data=test_flow, \n",
    "        verbose=0, callbacks=[TqdmCallback(verbose=1)], shuffle=True\n",
    "    )\n",
    "\n",
    "    y_test = test_flow[0][-1][0]\n",
    "    y_prob = model.predict(test_flow)[0]\n",
    "\n",
    "    rows = []\n",
    "\n",
    "    for edge, p in zip(test_flow[0][0][1][0], y_prob):\n",
    "        phn, gen = edge\n",
    "        rows.append([G_test.nodes()[gen], G_test.nodes()[phn], p])\n",
    "\n",
    "    df = pd.DataFrame(rows, columns=[\"Gen\", \"Phn\", \"p\"])\n",
    "\n",
    "    return df"
   ]
  },
  {
   "cell_type": "code",
   "execution_count": 3,
   "metadata": {},
   "outputs": [
    {
     "name": "stdout",
     "output_type": "stream",
     "text": [
      "Using GCN (local pooling) filters...\n",
      "Using GCN (local pooling) filters...\n"
     ]
    },
    {
     "data": {
      "application/vnd.jupyter.widget-view+json": {
       "model_id": "3e701808ced744748e3a7d2c34cf9889",
       "version_major": 2,
       "version_minor": 0
      },
      "text/plain": [
       "0epoch [00:00, ?epoch/s]"
      ]
     },
     "metadata": {},
     "output_type": "display_data"
    },
    {
     "data": {
      "application/vnd.jupyter.widget-view+json": {
       "model_id": "",
       "version_major": 2,
       "version_minor": 0
      },
      "text/plain": [
       "0batch [00:00, ?batch/s]"
      ]
     },
     "metadata": {},
     "output_type": "display_data"
    },
    {
     "name": "stdout",
     "output_type": "stream",
     "text": [
      "Using GCN (local pooling) filters...\n",
      "Using GCN (local pooling) filters...\n"
     ]
    },
    {
     "data": {
      "application/vnd.jupyter.widget-view+json": {
       "model_id": "12652d5d5d0747dd93b549014f77a5c4",
       "version_major": 2,
       "version_minor": 0
      },
      "text/plain": [
       "0epoch [00:00, ?epoch/s]"
      ]
     },
     "metadata": {},
     "output_type": "display_data"
    },
    {
     "data": {
      "application/vnd.jupyter.widget-view+json": {
       "model_id": "",
       "version_major": 2,
       "version_minor": 0
      },
      "text/plain": [
       "0batch [00:00, ?batch/s]"
      ]
     },
     "metadata": {},
     "output_type": "display_data"
    },
    {
     "name": "stdout",
     "output_type": "stream",
     "text": [
      "Using GCN (local pooling) filters...\n",
      "Using GCN (local pooling) filters...\n"
     ]
    },
    {
     "data": {
      "application/vnd.jupyter.widget-view+json": {
       "model_id": "23e3cf682ea94e50852c644dc093a43a",
       "version_major": 2,
       "version_minor": 0
      },
      "text/plain": [
       "0epoch [00:00, ?epoch/s]"
      ]
     },
     "metadata": {},
     "output_type": "display_data"
    },
    {
     "data": {
      "application/vnd.jupyter.widget-view+json": {
       "model_id": "",
       "version_major": 2,
       "version_minor": 0
      },
      "text/plain": [
       "0batch [00:00, ?batch/s]"
      ]
     },
     "metadata": {},
     "output_type": "display_data"
    },
    {
     "name": "stdout",
     "output_type": "stream",
     "text": [
      "Using GCN (local pooling) filters...\n",
      "Using GCN (local pooling) filters...\n"
     ]
    },
    {
     "data": {
      "application/vnd.jupyter.widget-view+json": {
       "model_id": "81d1b5150c64429ab9b4aad15d2dadee",
       "version_major": 2,
       "version_minor": 0
      },
      "text/plain": [
       "0epoch [00:00, ?epoch/s]"
      ]
     },
     "metadata": {},
     "output_type": "display_data"
    },
    {
     "data": {
      "application/vnd.jupyter.widget-view+json": {
       "model_id": "",
       "version_major": 2,
       "version_minor": 0
      },
      "text/plain": [
       "0batch [00:00, ?batch/s]"
      ]
     },
     "metadata": {},
     "output_type": "display_data"
    },
    {
     "name": "stdout",
     "output_type": "stream",
     "text": [
      "Using GCN (local pooling) filters...\n",
      "Using GCN (local pooling) filters...\n"
     ]
    },
    {
     "data": {
      "application/vnd.jupyter.widget-view+json": {
       "model_id": "3bf065027dcc41319fbdae4a831d2a90",
       "version_major": 2,
       "version_minor": 0
      },
      "text/plain": [
       "0epoch [00:00, ?epoch/s]"
      ]
     },
     "metadata": {},
     "output_type": "display_data"
    },
    {
     "data": {
      "application/vnd.jupyter.widget-view+json": {
       "model_id": "",
       "version_major": 2,
       "version_minor": 0
      },
      "text/plain": [
       "0batch [00:00, ?batch/s]"
      ]
     },
     "metadata": {},
     "output_type": "display_data"
    },
    {
     "name": "stdout",
     "output_type": "stream",
     "text": [
      "WARNING:tensorflow:5 out of the last 5 calls to <function Model.make_predict_function.<locals>.predict_function at 0x000002A8C1C67268> triggered tf.function retracing. Tracing is expensive and the excessive number of tracings could be due to (1) creating @tf.function repeatedly in a loop, (2) passing tensors with different shapes, (3) passing Python objects instead of tensors. For (1), please define your @tf.function outside of the loop. For (2), @tf.function has experimental_relax_shapes=True option that relaxes argument shapes that can avoid unnecessary retracing. For (3), please refer to https://www.tensorflow.org/guide/function#controlling_retracing and https://www.tensorflow.org/api_docs/python/tf/function for  more details.\n"
     ]
    },
    {
     "data": {
      "text/html": [
       "<div>\n",
       "<style scoped>\n",
       "    .dataframe tbody tr th:only-of-type {\n",
       "        vertical-align: middle;\n",
       "    }\n",
       "\n",
       "    .dataframe tbody tr th {\n",
       "        vertical-align: top;\n",
       "    }\n",
       "\n",
       "    .dataframe thead th {\n",
       "        text-align: right;\n",
       "    }\n",
       "</style>\n",
       "<table border=\"1\" class=\"dataframe\">\n",
       "  <thead>\n",
       "    <tr style=\"text-align: right;\">\n",
       "      <th></th>\n",
       "      <th>Gen</th>\n",
       "      <th>Phn</th>\n",
       "      <th>p</th>\n",
       "    </tr>\n",
       "  </thead>\n",
       "  <tbody>\n",
       "    <tr>\n",
       "      <th>0</th>\n",
       "      <td>ERCC1</td>\n",
       "      <td>D1071</td>\n",
       "      <td>0.881632</td>\n",
       "    </tr>\n",
       "    <tr>\n",
       "      <th>1</th>\n",
       "      <td>DDX54</td>\n",
       "      <td>D1071</td>\n",
       "      <td>0.845112</td>\n",
       "    </tr>\n",
       "    <tr>\n",
       "      <th>2</th>\n",
       "      <td>SNCAIP</td>\n",
       "      <td>D1071</td>\n",
       "      <td>0.698243</td>\n",
       "    </tr>\n",
       "    <tr>\n",
       "      <th>3</th>\n",
       "      <td>DNMT3A</td>\n",
       "      <td>D1071</td>\n",
       "      <td>0.833472</td>\n",
       "    </tr>\n",
       "    <tr>\n",
       "      <th>4</th>\n",
       "      <td>PAICS</td>\n",
       "      <td>D1071</td>\n",
       "      <td>0.470386</td>\n",
       "    </tr>\n",
       "    <tr>\n",
       "      <th>...</th>\n",
       "      <td>...</td>\n",
       "      <td>...</td>\n",
       "      <td>...</td>\n",
       "    </tr>\n",
       "    <tr>\n",
       "      <th>179923</th>\n",
       "      <td>GKN1</td>\n",
       "      <td>D1222</td>\n",
       "      <td>0.000014</td>\n",
       "    </tr>\n",
       "    <tr>\n",
       "      <th>179924</th>\n",
       "      <td>ITPKB</td>\n",
       "      <td>D1222</td>\n",
       "      <td>0.000014</td>\n",
       "    </tr>\n",
       "    <tr>\n",
       "      <th>179925</th>\n",
       "      <td>Mar-05</td>\n",
       "      <td>D1222</td>\n",
       "      <td>0.000014</td>\n",
       "    </tr>\n",
       "    <tr>\n",
       "      <th>179926</th>\n",
       "      <td>MORF4</td>\n",
       "      <td>D1222</td>\n",
       "      <td>0.000000</td>\n",
       "    </tr>\n",
       "    <tr>\n",
       "      <th>179927</th>\n",
       "      <td>WNT16</td>\n",
       "      <td>D1222</td>\n",
       "      <td>0.000000</td>\n",
       "    </tr>\n",
       "  </tbody>\n",
       "</table>\n",
       "<p>899640 rows × 3 columns</p>\n",
       "</div>"
      ],
      "text/plain": [
       "           Gen    Phn         p\n",
       "0        ERCC1  D1071  0.881632\n",
       "1        DDX54  D1071  0.845112\n",
       "2       SNCAIP  D1071  0.698243\n",
       "3       DNMT3A  D1071  0.833472\n",
       "4        PAICS  D1071  0.470386\n",
       "...        ...    ...       ...\n",
       "179923    GKN1  D1222  0.000014\n",
       "179924   ITPKB  D1222  0.000014\n",
       "179925  Mar-05  D1222  0.000014\n",
       "179926   MORF4  D1222  0.000000\n",
       "179927   WNT16  D1222  0.000000\n",
       "\n",
       "[899640 rows x 3 columns]"
      ]
     },
     "execution_count": 3,
     "metadata": {},
     "output_type": "execute_result"
    }
   ],
   "source": [
    "dfs = []\n",
    "\n",
    "splits = load_splits(sample_test_negatives=False, drop_disconnected=True)\n",
    "\n",
    "for split in splits:\n",
    "    dfs.append(train_predict(split))\n",
    "\n",
    "df = pd.concat(dfs)\n",
    "df"
   ]
  },
  {
   "cell_type": "code",
   "execution_count": 4,
   "metadata": {},
   "outputs": [],
   "source": [
    "df.to_csv('results.csv', index=False)"
   ]
  }
 ],
 "metadata": {
  "file_extension": ".py",
  "kernelspec": {
   "display_name": "Python 3",
   "language": "python",
   "name": "python3"
  },
  "language_info": {
   "codemirror_mode": {
    "name": "ipython",
    "version": 3
   },
   "file_extension": ".py",
   "mimetype": "text/x-python",
   "name": "python",
   "nbconvert_exporter": "python",
   "pygments_lexer": "ipython3",
   "version": "3.6.15"
  },
  "mimetype": "text/x-python",
  "name": "python",
  "npconvert_exporter": "python",
  "pygments_lexer": "ipython3",
  "version": 3
 },
 "nbformat": 4,
 "nbformat_minor": 4
}
